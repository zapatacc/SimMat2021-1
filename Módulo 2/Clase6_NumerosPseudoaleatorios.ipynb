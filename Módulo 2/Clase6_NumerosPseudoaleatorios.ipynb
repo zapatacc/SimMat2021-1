{
 "cells": [
  {
   "cell_type": "markdown",
   "metadata": {},
   "source": [
    "# Generación de números pseudoaleatorios\n",
    "\n",
    "<img style=\"float: center; margin: 0px 0px 15px 15px;\" src=\"https://upload.wikimedia.org/wikipedia/commons/6/6a/Dice.jpg\" width=\"300px\" height=\"100px\" />\n",
    "\n",
    "**Referencias de la clase:**\n",
    "- https://webs.um.es/mpulido/miwiki/lib/exe/fetch.php?id=amio&cache=cache&media=wiki:simt1b.pdf\n",
    "- http://www.lmpt.univ-tours.fr/~nicolis/Licence_NEW/08-09/boxmuller.pdf\n",
    "\n",
    "**Referencias de las librerías que usaremos:**\n",
    "- http://www.numpy.org/\n",
    "- https://matplotlib.org/"
   ]
  },
  {
   "cell_type": "markdown",
   "metadata": {},
   "source": [
    "___\n",
    "## 0. Introducción\n",
    "\n",
    "- Los números aleatorios son la base esencial de la simulación de escenarios.\n",
    "- Toda la aleatoriedad involucrada en el modelo se obtiene a partir de un generador de números aleatorios que produce una sucesión de valores que supuestamente son realizaciones de una secuencia de variables aleatorias independientes e idénticamente distribuidas."
   ]
  },
  {
   "cell_type": "markdown",
   "metadata": {},
   "source": [
    "### 0.1 ¿Qué es un número pseudoaleatorio?\n",
    "\n",
    "<img style=\"float: right; margin: 0px 0px 15px 15px;\" src=\"http://www.publicdomainpictures.net/pictures/50000/velka/random-numbers.jpg\" width=\"300px\" height=\"100px\" />\n",
    "\n",
    "- Es un número generado en un proceso que parece producir números al azar, pero no lo hace realmente.\n",
    "- Las secuencias de números pseudoaleatorios no muestran ningún patrón o regularidad aparente desde un punto de vista estadístico, a pesar de haber sido generadas por un algoritmo completamente determinista, en el que las mismas condiciones iniciales producen siempre el mismo resultado.\n",
    "- Por lo general, el interés no radica en generar un solo número aleatorio, sino muchos, reunidos en lo que se conoce como secuencia aleatoria.\n",
    "\n",
    "### 0.2 ¿En qué se aplican?\n",
    "\n",
    "- Modelado y simulación por computadora, estadística, diseño experimental. Normalmente, la entropía (aletoriedad) de los números que se generan actualmente basta para estas aplicaciones.\n",
    "- Criptografía. Este campo sigue estando en constante investigación, y por tanto la generación de números aleatorios también.\n",
    "- Asimismo, también destacan su uso en el llamado método de Montecarlo, con múltiples utilidades.\n",
    "- Entre otros...\n",
    "\n",
    "### 0.3 ¿Cuándo un generador de números pseudoaleatorios es bueno?\n",
    "\n",
    "- La sucesión de valores que proporcione deberı́a asemejarse a una sucesión de realizaciones independientes de una variable aleatoria $\\mathcal{U}(0, 1)$.\n",
    "- Los resultados deben ser reproducibles, en el sentido de que comenzando con la misma semilla inicial, debe ser capaz de reproducir la misma sucesión. Esto para poder probar diferentes alrternativas bajo las mismas condiciones y/o poder depurar fallos en el modelo.\n",
    "- La sucesión de valores generados debe tener un periodo no repetitivo tan largo como sea posible.\n",
    "\n",
    "### 0.4 Funcionamiento básico\n",
    "\n",
    "- Elegir una semilla inicial (condición inicial) $x_0$.\n",
    "- Generar una sucesión de valores $x_n$ mediante la relación de recurrencia $x_n=T(x_{n-1})$.\n",
    "\n",
    "> Generalmente, esta secuencia es de números pseudoaleatorios $\\mathcal{U}(0,1)$.\n",
    "\n",
    "- Finalmente, se genera un número pseudoaleatorio con distribución deseada, definido a través de alguna relación $u_n=g(x_n)$.\n",
    "- Estas sucesiones son periódicas. Es decir, en algún momento ocurrirá que $x_j = x_i$ para algún $j > i$."
   ]
  },
  {
   "cell_type": "markdown",
   "metadata": {},
   "source": [
    "___\n",
    "## 1. Métodos congruenciales para generación de números pseudoaleatorios $\\mathcal{U}(0,1)$\n",
    "\n",
    "- Introducidos por Lehmer en 1951.\n",
    "- Son los principales generadores de números pseudoaleatorios utilizados hoy en día.\n",
    "\n",
    "### 1.1 Descripción general del método\n",
    "\n",
    "- Comienza con un valor inicial (semilla) $x_0$, y los valores subsiguientes, $x_n$ para $n \\geq 1$, se obtienen recursivamente con la siguiente fórmula:\n",
    "$$x_n = (ax_{n−1} + b) \\mod m.$$\n",
    "- En la fórmula de arriba $\\text{mod}$ representa la operación residuo.\n",
    "- Los enteros positivos $m$, $a$ y $b$ en la fórmula se denominan:\n",
    " - $0<m$ es el módulo,\n",
    " - $0<a<m$ es el multiplicador, y\n",
    " - $0\\leq b <m$ es el incremento.\n",
    " - La semilla debe satisfacer $0\\leq x_0<m$.\n",
    "- Si $b = 0$, el generador se denomina multiplicativo.\n",
    "- En caso contrario se llama mixto."
   ]
  },
  {
   "cell_type": "markdown",
   "metadata": {},
   "source": [
    "**Ejemplo** \n",
    "\n",
    "+ Ingresar en `Equipo Trabajo en Clase i` y resolverlo en grupos.\n",
    "+ Equipos 1-4 Ejercicio 1.\n",
    "+ Equipos 5-8 Ejercicio 2\n",
    "\n",
    "Para tomar intuición con este método, probar a mano con los siguientes conjuntos de parámetros:\n",
    "1. $m=9$, $a=5$, $b=1$, $x_0=1$.\n",
    "2. $m=16$, $a=5$, $b=3$, $x_0=7$."
   ]
  },
  {
   "cell_type": "markdown",
   "metadata": {},
   "source": [
    "1. Son listas de números que se repiten.\n",
    "2. Como máximo se repiten cada $m$ (módulo). Hay que tomar $m$ grande.\n",
    "3. Son números enteros entre $0$ y $m$. Para que estén entre $0$ y $1$ hay que dividirlos entre $m$."
   ]
  },
  {
   "cell_type": "markdown",
   "metadata": {},
   "source": [
    "En efecto, un generador congruencial queda completamente determinado por los parámetros $m$, $a$, $b$ y $x_0$.\n",
    "\n",
    "**Proposición.** Los valores generados por un método congruencial verifican:\n",
    "\n",
    "$$x_n = \\left(a^n x_0+b\\frac{a^n-1}{a-1}\\right) \\mod m.$$\n",
    "\n",
    "<font color=blue> Verificar esto en el tablero. </font>"
   ]
  },
  {
   "cell_type": "markdown",
   "metadata": {},
   "source": [
    "### 1.2 Programemos este método\n",
    "\n",
    "De acuerdo a lo descrito arriba, quisiéramos programar una función que reciba:\n",
    "- la semilla $x_0$,\n",
    "- el multiplicador $a$,\n",
    "- el incremento $b$,\n",
    "- el módulo $m$, y\n",
    "- la cantidad de elementos de la secuencia pseudoaleatoria requeridos $n$,\n",
    "\n",
    "y que retorne la secuencia pseudoaleatoria de longitud $n$."
   ]
  },
  {
   "cell_type": "code",
   "execution_count": null,
   "metadata": {},
   "outputs": [],
   "source": [
    "# Importar la librería numpy... útil para el manejo de datos n-dimensionales (vectores)\n"
   ]
  },
  {
   "cell_type": "code",
   "execution_count": null,
   "metadata": {},
   "outputs": [],
   "source": [
    "#### Escribir la función acá\n",
    "\n",
    "    #x0: Semilla (condición inicial)\n",
    "    #a: multiplicador (parámetro)\n",
    "    #b: incremento (parámetro)\n",
    "    #m: módulo (parámetro)\n",
    "    #n: longitud de la secuencia\n"
   ]
  },
  {
   "cell_type": "markdown",
   "metadata": {},
   "source": [
    "**Ejemplo**\n",
    "\n",
    "Probar con los conjuntos de parámetros anteriores:\n",
    "1. $m=9$, $a=5$, $b=1$, $x_0=1$.\n",
    "2. $m=16$, $a=5$, $b=3$, $x_0=7$.\n",
    "\n",
    "Además,\n",
    "- Para el conjunto de parámetros 1, probar con las semillas $x_0=5,8$.\n",
    "- Para el conjunto de parámetros 2, probar con diferentes semillas."
   ]
  },
  {
   "cell_type": "code",
   "execution_count": null,
   "metadata": {},
   "outputs": [],
   "source": [
    "#### Probar acá\n"
   ]
  },
  {
   "cell_type": "code",
   "execution_count": null,
   "metadata": {},
   "outputs": [],
   "source": []
  },
  {
   "cell_type": "code",
   "execution_count": null,
   "metadata": {},
   "outputs": [],
   "source": []
  },
  {
   "cell_type": "code",
   "execution_count": null,
   "metadata": {},
   "outputs": [],
   "source": []
  },
  {
   "cell_type": "markdown",
   "metadata": {},
   "source": [
    "**Ejemplo**\n",
    "\n",
    "Los ciclos *for* o *while* son un atentado contra la computación eficiente. Programar de forma vectorizada usando la fórmula:\n",
    "$$x_n = \\left(a^n x_0+b\\frac{a^n-1}{a-1}\\right) \\mod m.$$"
   ]
  },
  {
   "cell_type": "code",
   "execution_count": null,
   "metadata": {},
   "outputs": [],
   "source": [
    "#### Escribir la función acá\n",
    "\n",
    "    #x0: Semilla (condición inicial)\n",
    "    #a: multiplicador (parámetro)\n",
    "    #b: incremento (parámetro)\n",
    "    #m: módulo (parámetro)\n",
    "    #n: longitud de la secuencia\n"
   ]
  },
  {
   "cell_type": "code",
   "execution_count": null,
   "metadata": {},
   "outputs": [],
   "source": [
    "#### Probar acá\n"
   ]
  },
  {
   "cell_type": "code",
   "execution_count": null,
   "metadata": {},
   "outputs": [],
   "source": []
  },
  {
   "cell_type": "markdown",
   "metadata": {},
   "source": [
    "Entonces vemos que la calidad de nuestro generador congruencial depende fuertemente de la elección de los parámetros, pues quisiéramos que los periodos sean lo más grandes posible ($m$).\n",
    "\n",
    "Cuando el periodo de un generador congruencial coincide con el módulo $m$, lo llamaremos *generador de ciclo completo*. El periodo de este tipo de generadores es independiente de la semilla que utilicemos.\n",
    "\n",
    "El siguiente Teorema nos da condiciones para crear generadores de ciclo completo:"
   ]
  },
  {
   "cell_type": "markdown",
   "metadata": {},
   "source": [
    "**Teorema.** Un generador congruencial tiene periodo completo si y sólo si se cumplen las siguientes condiciones:\n",
    "1. $m$ y $b$ son primos entre sı́.\n",
    "2. Si $q$ es un número primo que divide a $m$, entonces $q$ divide a $a − 1$.\n",
    "3. Si $4$ divide a m, entonces 4 divide a $a − 1$."
   ]
  },
  {
   "cell_type": "markdown",
   "metadata": {},
   "source": [
    "**Ejercicio**\n",
    "\n",
    "Comprobar el teorema en el conjunto de parámetros 2."
   ]
  },
  {
   "cell_type": "markdown",
   "metadata": {},
   "source": [
    "### 1.3 Comentarios adicionales sobre el generador congruencial\n",
    "\n",
    "Hasta ahora solo nos basamos en aspectos teóricos para ver si un generador es bueno. También hay aspectos computacionales...\n",
    "\n",
    "En ese sentido los generadores multiplicativos son más eficientes que los mixtos porque se ahorran la operación de suma. Sin embargo, por el **Teorema** <font color=red>¿qué pasa con los generadores multiplicativos?</font>\n",
    "\n",
    "De igual forma, una elección computacionalmente adecuada es $m=2^k$ (se elige m grande para tener periodos grandes). Con esta elección, y $k\\geq2$, el generador tendrá periodo completo si y sólo si $b$ es impar y $1 = a \\mod 4$.\n",
    "\n",
    "Si se combina lo anterior (generador multiplicativo con $m=2^k$), obtenemos que el periodo máximo que se puede obtener es una cuarta parte de $m$, $\\frac{2^k}{4}=2^{k-2}$ y se alcanza únicamente para $x_0$ impar y, $3 = a \\mod 8$ o $5 = a \\mod 8$.\n",
    "\n",
    "Un generador multiplicativo muy utilizado, conocido como *RANDU*, tomaba $m = 2^{31}$ y $a = 2^{16} + 3$. Sin embargo, se ha demostrado que tiene propiedades estadı́sticas bastante malas.\n",
    "\n",
    "Los generadores multiplicativos más famosos utilizados por IBM tomaban $m = 2^{31} − 1$ y $a = 7^5, 630360016$.\n",
    "\n",
    "Pueden encontrar más información en este [enlace](https://en.wikipedia.org/wiki/Linear_congruential_generator).\n",
    "\n",
    "- Se pueden hacer combinaciones de generadores y otros generadores más complicados..."
   ]
  },
  {
   "cell_type": "markdown",
   "metadata": {},
   "source": [
    "**Ejemplo**\n",
    "\n",
    "Tomar los parámetros $m=2^{31} − 1$, $a=1103515245$ y $b=12345$, y generar una secuencia pseudoaleatoria uniforme estándar de $n=10^4$ elementos.\n",
    "\n",
    "Luego, dibujar el histograma (diagrama de frecuencias). ¿Corresponde lo obtenido con lo que se imaginaban?"
   ]
  },
  {
   "cell_type": "code",
   "execution_count": null,
   "metadata": {},
   "outputs": [],
   "source": [
    "#### Resolver acá\n",
    "\n",
    "#n = (1e4) #Esta línea es equivalente a tener 10**4\n"
   ]
  },
  {
   "cell_type": "code",
   "execution_count": null,
   "metadata": {},
   "outputs": [],
   "source": []
  },
  {
   "cell_type": "code",
   "execution_count": null,
   "metadata": {
    "scrolled": false
   },
   "outputs": [],
   "source": []
  },
  {
   "cell_type": "markdown",
   "metadata": {},
   "source": [
    "**Ejemplo**\n",
    "\n",
    "¿Cómo hacer para obtener secuencias pseudoaleatorias en $\\mathcal{U}(a,b)$?\n",
    "\n",
    "Realizar un código para esto. Hacer una prueba con los parámetros anteriormente tomados y dibujar el histograma para contrastar."
   ]
  },
  {
   "cell_type": "code",
   "execution_count": null,
   "metadata": {},
   "outputs": [],
   "source": [
    "#### Resolver acá\n",
    "#Límites para generar los números pseudoaleatorios\n",
    "\n",
    "\n",
    "#Parámetros del generador\n"
   ]
  },
  {
   "cell_type": "code",
   "execution_count": null,
   "metadata": {},
   "outputs": [],
   "source": []
  },
  {
   "cell_type": "markdown",
   "metadata": {},
   "source": [
    "**Ejemplo**\n",
    "\n",
    "Escribir una función que devuelva secuencias de números aleatorios $\\mathcal{U}(0,1)$ usando los parámetros dados anteriormente y que use como semilla `time.time()`."
   ]
  },
  {
   "cell_type": "code",
   "execution_count": null,
   "metadata": {},
   "outputs": [],
   "source": [
    "#### Resolver acá\n"
   ]
  },
  {
   "cell_type": "code",
   "execution_count": null,
   "metadata": {},
   "outputs": [],
   "source": [
    "#Definir parámetros del generador\n",
    "\n",
    "\n",
    "#Generar secuencia de variables pseudoaleatorias\n",
    "\n",
    "\n",
    "# Graficar el histograma\n"
   ]
  },
  {
   "cell_type": "markdown",
   "metadata": {},
   "source": [
    "**Ejercicio**\n",
    "\n",
    "Escribir una función que devuelva secuencias de números aleatorios $\\mathcal{U}(A,B)$ usando los parámetros dados anteriormente y que use como semilla `time.time()`."
   ]
  },
  {
   "cell_type": "code",
   "execution_count": null,
   "metadata": {},
   "outputs": [],
   "source": [
    "# Parámetros del generador\n",
    "\n",
    "\n",
    "# Límites del generador\n",
    "\n",
    "\n",
    "# Se genera la secuencia de números pseudoaleatorios\n"
   ]
  },
  {
   "cell_type": "markdown",
   "metadata": {},
   "source": [
    "___\n",
    "## 2. Método Box–Muller para generación de números pseudoaleatorios $\\mathcal{N}(0,1)$\n",
    "\n",
    "Teniendo dos secuencias de números pseudoaleatorios independientes e uniformemente distribuidos en el intervalo $\\left[0,1\\right]$ ($\\mathcal{U}(0,1)$) es posible generar dos secuencias  de números pseudoaleatorios independientes y normalmente distribuidos con media cero y varianza unitaria ($\\mathcal{N}(0,1)$).\n",
    "\n",
    "Este método se conoce como el método Box–Muller."
   ]
  },
  {
   "cell_type": "markdown",
   "metadata": {},
   "source": [
    "Supongamos que $U_1$ y $U_2$ son variables aleatorias independientes que están uniformemente distribuidas en el intervalo $\\left[0,1\\right]$. Sean entonces:\n",
    "\n",
    "$$X=R\\cos(\\theta)=\\sqrt{-2\\log(U_1)}\\cos(2\\pi U_2),$$\n",
    "\n",
    "y\n",
    "\n",
    "$$Y=R\\sin(\\theta)=\\sqrt{-2\\log(U_1)}\\sin(2\\pi U_2).$$\n",
    "\n",
    "Entonces, $X$ y $Y$ son variables aleatorias independientes con una distribución normal estándar ($\\mathcal{N}(0,1)$)."
   ]
  },
  {
   "cell_type": "markdown",
   "metadata": {},
   "source": [
    "La derivación de esto se basa en la transformación del sistema cartesiano al sistema polar.\n",
    "\n",
    "<font color=blue> Mostrar intuitivamente en el tablero. </font>"
   ]
  },
  {
   "cell_type": "markdown",
   "metadata": {},
   "source": [
    "**Ejemplo**\n",
    "\n",
    "Escribir una función que devuelva secuencias de números aleatorios $\\mathcal{N}(0,1)$.\n",
    "\n",
    "*Usar la función escrita anteriormente*"
   ]
  },
  {
   "cell_type": "code",
   "execution_count": null,
   "metadata": {},
   "outputs": [],
   "source": [
    "#### Resolver acá\n"
   ]
  },
  {
   "cell_type": "markdown",
   "metadata": {},
   "source": [
    "**Ejemplo**\n",
    "\n",
    "Generar una secuencia pseudoaleatoria normal estándar de $n=10^4$ elementos.\n",
    "\n",
    "Luego, dibujar el histograma (diagrama de frecuencias). ¿Corresponde lo obtenido con lo que se imaginaban?"
   ]
  },
  {
   "cell_type": "code",
   "execution_count": null,
   "metadata": {},
   "outputs": [],
   "source": [
    "#### Resolver acá\n"
   ]
  },
  {
   "cell_type": "code",
   "execution_count": null,
   "metadata": {},
   "outputs": [],
   "source": []
  },
  {
   "cell_type": "markdown",
   "metadata": {},
   "source": [
    "**Ejemplo**\n",
    "\n",
    "¿Cómo hacer para obtener secuencias pseudoaleatorias en $\\mathcal{N}(\\mu,\\sigma)$?\n",
    "\n",
    "Realizar un código para esto. Hacer una prueba y dibujar el histograma para contrastar."
   ]
  },
  {
   "cell_type": "code",
   "execution_count": null,
   "metadata": {},
   "outputs": [],
   "source": [
    "#### Resolver acá\n",
    "# Media mu y varianza sigma\n",
    "\n",
    "\n",
    "#Parámetros del generador\n",
    "\n",
    "\n",
    "# Función con media mu y varianza sigma\n"
   ]
  },
  {
   "cell_type": "code",
   "execution_count": null,
   "metadata": {},
   "outputs": [],
   "source": []
  },
  {
   "cell_type": "markdown",
   "metadata": {},
   "source": [
    "Finalmente, mostrar que funciones de este tipo ya están en `numpy`. Ya sabemos como se obtienen."
   ]
  },
  {
   "cell_type": "code",
   "execution_count": null,
   "metadata": {
    "scrolled": true
   },
   "outputs": [],
   "source": []
  }
 ],
 "metadata": {
  "kernelspec": {
   "display_name": "Python 3",
   "language": "python",
   "name": "python3"
  },
  "language_info": {
   "codemirror_mode": {
    "name": "ipython",
    "version": 3
   },
   "file_extension": ".py",
   "mimetype": "text/x-python",
   "name": "python",
   "nbconvert_exporter": "python",
   "pygments_lexer": "ipython3",
   "version": "3.8.5"
  }
 },
 "nbformat": 4,
 "nbformat_minor": 2
}
