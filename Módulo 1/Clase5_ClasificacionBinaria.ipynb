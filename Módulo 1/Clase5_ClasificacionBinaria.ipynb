{
 "cells": [
  {
   "cell_type": "markdown",
   "metadata": {},
   "source": [
    "# QUIZ PARA LA SIGUIENTE CLASE 24 DE FEBRERO"
   ]
  },
  {
   "cell_type": "markdown",
   "metadata": {},
   "source": [
    "# PROYECTO MÓDULO 1\n",
    "\n",
    "### 1. Elegir integrantes para proyecto. Mínimo 2, máximo 3 (sin excepción). Madarme un correo con los nombres de los integrantes ya. Enviar correo a cristianz@iteso.mx hoy antes de las 8 pm\n",
    "### 2. Deben elegir un tema para proyecto que se pueda resolver como un problema de optimización (preferiblemente, relacionado con su carrera). \n",
    "### 3. Para esta semana, a más tardar, deben acercarse a mi con su tema de proyecto. Juntos, definiremos el alcance.\n",
    "### 4. Fecha de entrega y presentación: 8 de Marzo de 2021 (10 minutos cada equipo).\n",
    "\n",
    "# Ideas de proyectos:\n",
    "### 1. Programación lineal: (con base en el libro Model building in mathematical programming de H. Paul Williams)\n",
    "\n",
    " + Planeación de mano de obra.\n",
    " + Planeación de producción.\n",
    " + Arbitraje usando programación lineal (Financiera) http://www.meiss.com/columbia/en/teaching/1999/fall/B6015/download/lecture05/lec5.pdf\n",
    " + Planta de tratamiento de aguas residuales de bajo costo (Ingeniería civil) Numerical Methods for Engineers pg 421\n",
    " + Problema de descubrir datos ocultos\n",
    " + Optimizar diseño de divisor de voltaje\n",
    " \n",
    "### 2. Ajuste de curvas (con base en los datos en https://data.worldbank.org/indicator ó también en https://www.kaggle.com/datasets)\n",
    "\n",
    " + Histórico de temperaturas hasta 2016: ajuste de curvas y predicción de temperaturas de 2017 (comparación con datos reales).\n",
    " + Por ejemplo, CO2 emissions (kt), Forest area (sq. km), están relacionados con cambio climático. En las emisiones de CO2 parece que en los últimos años la curva tiene tendencia de concavidad hacia abajo, lo que indicaría que las políticas que se estén ejecutando si están teniendo un impacto.\n",
    " + Otro ejemplo puede ser Access to electricity (% of population). Se ve que está en constante crecimiento. Se podría estimar cuándo se llegará al 95%.\n",
    " \n",
    "### 3. Cualquier problema de clasificación binaria (Regresión logística) (https://www.kaggle.com/datasets)"
   ]
  },
  {
   "cell_type": "markdown",
   "metadata": {},
   "source": [
    "# Clasificación binaria\n",
    "\n",
    "<img style=\"float: right; margin: 0px 0px 15px 15px;\" src=\"https://static.pexels.com/photos/616020/pexels-photo-616020.jpeg\" width=\"400px\" height=\"125px\" />\n",
    "\n",
    "> Lo que veremos en esta clase son aspectos básicos de lo que se conoce técnicamente con muchos nombres sofisticados: aprendizaje de máquina (machine learning), clasificación con redes neuronales (neural networks), entre otros.\n",
    "\n",
    "**Referencia**\n",
    "- https://es.coursera.org/learn/neural-networks-deep-learning\n",
    "___"
   ]
  },
  {
   "cell_type": "markdown",
   "metadata": {},
   "source": [
    "## 0. Motivación\n",
    "Muchas aplicaciones de ingeniería se derivan de construir **modelos** para:\n",
    "- predecir (clima, proyección de producción, toma de decisiones),\n",
    "- diseñar (máquinas eléctricas, construcciones),\n",
    "- entre otros.\n",
    "\n",
    "Hasta hace unos quince años, la construcción de dichos modelos se hacía mayoritariamente con base en leyes basadas en una fuerte evidencia de la naturaleza (leyes de Newton, ecuaciones de Maxwell, leyes de la termodinámica, entre otras).\n",
    "\n",
    "Sin embargo, en los últimos años, la gran cantidad de información disponible junto con el avance tecnológico en capacidad de procesamiento han llevado a que se construyan modelos con base en simplemente datos.\n",
    "\n",
    "Ejemplos:\n",
    "- Modelado de tráfico (waze/google maps).\n",
    "- Modelos sociales (publicidad, diseño de estrategias de mercadeo).\n",
    "- Modelos de... ¿personalidad?\n",
    "\n",
    "Si lo anterior no les resulta sorprendente, los invito a que saquen veinte minutos y lean la siguiente [entrevista](http://www.theclinic.cl/2017/01/19/martin-hilbert-experto-redes-digitales-obama-trump-usaron-big-data-lavar-cerebros/).\n",
    "\n",
    "Bueno, todo lo anterior es el poderoso alcance que tienen las tecnologías de la información. Hoy veremos un abrebocas: **construir un modelo de clasificación binaria con base en datos únicamente**."
   ]
  },
  {
   "cell_type": "markdown",
   "metadata": {},
   "source": [
    "## 1. Formulación del problema\n",
    "\n",
    "### 1.1 Idea básica\n",
    "\n",
    "<img style=\"float: right; margin: 0px 0px 15px 15px;\" src=\"https://upload.wikimedia.org/wikipedia/commons/d/db/Logo_ITESO_normal.jpg\" width=\"200px\" height=\"70px\" />\n",
    "\n",
    "Presentamos la idea básica de clasificación binaria mediante un ejemplo.\n",
    "\n",
    "Tenemos como *entrada* una imagen digital y como *salida* una etiqueta que identifica a esta imagen como el logo del ITESO (en cuyo caso la etiqueta toma el valor de uno '1') o no (en cuyo caso la etiqueta toma el valor de cero '0').\n",
    "\n",
    "A la salida la denotaremos $y$.\n",
    "\n",
    "**¿Cómo guarda las imágenes un computador?** Código de colores RGB.\n",
    "\n",
    "<font color = red>\n",
    "$$R=\\left[\\begin{array}{cccc}255 & 124 & \\dots & 45\\\\ 235 & 224 & \\dots & 135\\\\ \\vdots & \\vdots & & \\vdots\\\\ 23 & 12 & \\dots & 242\\end{array}\\right]$$\n",
    "</font>\n",
    "<font color = green>\n",
    "$$G=\\left[\\begin{array}{cccc}255 & 154 & \\dots & 42\\\\ 215 & 24 & \\dots & 145\\\\ \\vdots & \\vdots & & \\vdots\\\\ 0 & 112 & \\dots & 232\\end{array}\\right]$$\n",
    "</font>\n",
    "<font color = blue>\n",
    "$$B=\\left[\\begin{array}{cccc}255 & 231 & \\dots & 145\\\\ 144 & 234 & \\dots & 35\\\\ \\vdots & \\vdots & & \\vdots\\\\ 5 & 52 & \\dots & 42\\end{array}\\right]$$\n",
    "</font>\n",
    "\n",
    "Cada matriz tiene tamaño correspondiente con los pixeles de la imagen. Si la imagen se de $64px\\times 64px$, cada matriz será de $64\\times 64$.\n",
    "\n",
    "**¿Cómo podemos convertir entonces una imagen en una entrada?** Ponemos cada valor de cada matriz en un vector de características $\\boldsymbol{x}$:\n",
    "\n",
    "$$\\boldsymbol{x}=\\left[\\begin{array}{ccc} \\text{vec}R & \\text{vec}G & \\text{vec}B \\end{array}\\right]^T=\\left[\\begin{array}{ccccccccc} 255 & 124 & \\dots & 255 & 154 & \\dots & 255 & 231 & \\dots \\end{array}\\right]^T$$\n",
    "\n",
    "Entonces el problema de clasificación se puede resumir como dado un vector de entrada $\\boldsymbol{x}$ (en este caso un vector con las intensidades de rojo, verde y azul por pixel de una imagen), predecir si la etiqueta correspondiente $y$ toma el valor de $1$ o $0$ (si es logo del ITESO o no).\n",
    "\n",
    "### 1.2 Notación\n",
    "En adelante seguiremos la siguiente notación.\n",
    "\n",
    "Un ejemplo de entrenamiento se representa por la pareja ordenada $(\\boldsymbol{x},y)$, donde $\\boldsymbol{x}\\in\\mathbb{R}^n$ y $y\\in\\left\\lbrace0,1\\right\\rbrace$.\n",
    "\n",
    "Tendremos $m$ ejemplos de entrenamiento, de modo que nuestro conjunto de entrenamiento será $\\left\\lbrace(\\boldsymbol{x}^1,y^1),(\\boldsymbol{x}^2,y^2),\\dots,(\\boldsymbol{x}^m,y^m)\\right\\rbrace$.\n",
    "\n",
    "Por otra parte, para presentar de forma más compacta las entradas de entrenamiento, definimos la matriz\n",
    "\n",
    "$$\\boldsymbol{X}=\\left[\\begin{array}{c} {\\boldsymbol{x}^1}^T \\\\ {\\boldsymbol{x}^2}^T \\\\ \\vdots \\\\ {\\boldsymbol{x}^m}^T \\end{array}\\right]\\in\\mathbb{R}^{m\\times n},$$\n",
    "\n",
    "cuyas filas son los vectores de entrenamiento de entrada transpuestos, y el vector\n",
    "\n",
    "$$\\boldsymbol{Y}=\\left[\\begin{array}{c} y^1 \\\\ y^2 \\\\ \\vdots \\\\ y^m \\end{array}\\right]\\in\\mathbb{R}^{m},$$\n",
    "\n",
    "cuyas componentes son las etiquetas (salidas) de entrenamiento."
   ]
  },
  {
   "cell_type": "markdown",
   "metadata": {},
   "source": [
    "## 2. Regresión logística\n",
    "\n",
    "La idea entonces es, dado un vector de características $\\boldsymbol{x}$ (quizá correspondiente a una imagen que queramos identificar como el logo del ITESO o no), queremos obtener una predicción $\\hat{y}$ que es nuestro estimado de $y$.\n",
    "\n",
    "Formalmente $\\hat{y}=P(y=1|\\boldsymbol{x})\\in\\left[0,1\\right]$...\n",
    "\n",
    "Los parámetros de regresión serán $\\boldsymbol{\\beta}=\\left[\\beta_0\\quad \\beta_1\\quad \\dots\\quad \\beta_n \\right]^T\\in\\mathbb{R}^{n+1}.$\n",
    "\n",
    "**Primera idea:** usar una regresor lineal \n",
    "\n",
    "$$\\hat{y}=\\beta_0+\\beta_1x_1+\\beta_2x_2+\\dots+\\beta_nx_n=\\left[1\\quad \\boldsymbol{x}^T\\right]\\boldsymbol{\\beta}=\\boldsymbol{x}_a^T\\boldsymbol{\\beta},$$\n",
    "\n",
    "donde $\\boldsymbol{x}_a=\\left[1\\quad \\boldsymbol{x}^T \\right]^T\\in\\mathbb{R}^{n+1}$. \n",
    "\n",
    "¿Cuál es el problema? Que el producto punto $\\boldsymbol{\\beta}^T\\boldsymbol{x}_a$ no está entre $0$ y $1$.\n",
    "\n",
    "**Entonces,** pasamos el regresor lineal por una sigmoide (función logística)\n",
    "\n",
    "$$\\sigma(z)=\\frac{1}{1+e^{-z}}$$"
   ]
  },
  {
   "cell_type": "code",
   "execution_count": 1,
   "metadata": {},
   "outputs": [],
   "source": [
    "# Importar librerias\n",
    "import numpy as np\n",
    "import matplotlib.pyplot as plt"
   ]
  },
  {
   "cell_type": "code",
   "execution_count": 2,
   "metadata": {},
   "outputs": [],
   "source": [
    "# Función sigmoide\n",
    "def sigmoide(z):\n",
    "    sigma = 1/(1+np.exp(-z))\n",
    "    return sigma"
   ]
  },
  {
   "cell_type": "code",
   "execution_count": 4,
   "metadata": {},
   "outputs": [
    {
     "data": {
      "image/png": "[encoded data removed]",
      "text/plain": [
       "<Figure size 576x432 with 1 Axes>"
      ]
     },
     "metadata": {
      "needs_background": "light"
     },
     "output_type": "display_data"
    }
   ],
   "source": [
    "# Gráfica\n",
    "znum = np.linspace(-10,10,100)\n",
    "ynum = sigmoide(znum)\n",
    "\n",
    "plt.figure(figsize=(8,6))\n",
    "plt.plot(znum, ynum, lw=3)\n",
    "\n",
    "plt.xlabel('$z$')\n",
    "plt.ylabel('$\\sigma(z)$')\n",
    "\n",
    "plt.grid()\n",
    "plt.show()"
   ]
  },
  {
   "cell_type": "markdown",
   "metadata": {},
   "source": [
    "Notamos que:\n",
    "- Si $z$ es grande, $\\sigma(z)=1$.\n",
    "- Si $-z$ es grande, $\\sigma(z)=0$.\n",
    "- $\\sigma(0)=0.5$.\n",
    "\n",
    "Finalmente...\n",
    "\n",
    "**Regresor logístico:** \n",
    "\n",
    "$$\\hat{y}=\\sigma(\\boldsymbol{x}_a^T\\boldsymbol{\\beta})$$\n",
    "\n",
    "Para manejar todos los datos de entrenamiento, se define la matriz\n",
    "\n",
    "$$\\boldsymbol{X}_a=\\left[\\boldsymbol{1}_{m\\times 1}\\quad \\boldsymbol{X}\\right]=\\left[\\begin{array}{cc} 1 & {\\boldsymbol{x}^1}^T \\\\ 1 & {\\boldsymbol{x}^2}^T \\\\ \\vdots & \\vdots \\\\ 1 & {\\boldsymbol{x}^m}^T \\end{array}\\right]\\in\\mathbb{R}^{m\\times (n+1)}.$$\n",
    "\n",
    "Así,\n",
    "\n",
    "$$\\hat{\\boldsymbol{Y}}=\\left[\\begin{array}{c} \\hat{y}^1 \\\\ \\hat{y}^2 \\\\ \\vdots \\\\ \\hat{y}^m \\end{array}\\right]=\\sigma(\\boldsymbol{X}_a\\boldsymbol{\\beta})$$"
   ]
  },
  {
   "cell_type": "code",
   "execution_count": 6,
   "metadata": {},
   "outputs": [],
   "source": [
    "# Definir función de regresión logística\n",
    "def regre_log(beta, X):\n",
    "    m = X.shape[0]\n",
    "    XA = np.append(np.ones((m,1)), X, axis=1)\n",
    "    return 0.999*sigmoide(XA.dot(beta))"
   ]
  },
  {
   "cell_type": "markdown",
   "metadata": {},
   "source": [
    "## 3. Funcional de costo\n",
    "Ya que tenemos definida la forma de nuestro modelo clasificador, debemos **entrenar** los parámetros $\\boldsymbol{\\beta}$ con los ejemplos de entrenamiento.\n",
    "\n",
    "Es decir, dados  $\\left\\lbrace(\\boldsymbol{x}^1,y^1),(\\boldsymbol{x}^2,y^2),\\dots,(\\boldsymbol{x}^m,y^m)\\right\\rbrace$, queremos encontrar parámetros $\\boldsymbol{\\beta}$ tales que $\\hat{y}^i=\\sigma({\\boldsymbol{x}_a^i}^T\\boldsymbol{\\beta})\\approx y^i$ 'lo mejor posible'.\n",
    "\n",
    "Esto lo plantearemos como un problema de optimización.\n",
    "\n",
    "**Primera idea:** minimizar error cuadrático $\\min_{\\boldsymbol{\\beta}} \\frac{1}{m}\\sum_{i=1}^m (\\hat{y}^i-y^i)^2$. Problema de optimización *no convexo* (explicar).\n",
    "\n",
    "<img style=\"float: left; margin: 0px 0px 15px 15px;\" src=\"https://miro.medium.com/max/648/1*6EIZU5RiHx_Um_p-Zuh4Sw.png\" width=\"470px\" height=\"135px\" />\n",
    "\n",
    "<img style=\"float: right; margin: 0px 0px 15px 15px;\" src=\"https://miro.medium.com/max/300/1*3o9_XoQP4TaceYPRZVHlxg.png\" width=\"450px\" height=\"135px\" />\n",
    "\n",
    "\n",
    "\n",
    "**Alternativa:** entonces, se buscó una función de modo que el problema de optimización fuera convexo. Esta es:\n",
    "\n",
    "$$\\min_{\\boldsymbol{\\beta}} \\frac{1}{m}\\sum_{i=1}^m -\\left(y^i\\log(\\hat{y}^i)+(1-y^i)\\log(1-\\hat{y}^i)\\right)$$\n",
    "\n",
    "No pretendemos explicar toda esta función. Pero sí podemos ganar algo de intuición de porqué la usamos. Fijemos un $i$ dentro del sumatorio y consideremos el término $-\\left(y^i\\log(\\hat{y}^i)+(1-y^i)\\log(1-\\hat{y}^i)\\right)$.\n",
    "\n",
    "- Si $y^i=1$, entonces lo que queremos minimzar es $-\\log(\\hat{y}^i)$. Es decir, queremos que $\\hat{y}^i=\\sigma({\\boldsymbol{x}_a^i}^T\\boldsymbol{\\beta})$ sea lo más grande posible, osea $1=y^i$.\n",
    "- Si $y^i=0$, entonces lo que queremos minimzar es $-\\log(1-\\hat{y}^i)$. Es decir, queremos que $\\hat{y}^i=\\sigma({\\boldsymbol{x}_a^i}^T\\boldsymbol{\\beta})$ sea lo más pequeño posible, osea $0=y^i$.\n",
    "\n",
    "En cualquier caso, esta función objetivo cumple con lo requerido."
   ]
  },
  {
   "cell_type": "markdown",
   "metadata": {},
   "source": [
    "## Ejemplo\n",
    "El archivo `datos.csv`  contiene datos de puntajes de dos exámenes de admisión (1 y 2), y etiquetas de si el respectivo estudiante fue admitido o no a la universidad."
   ]
  },
  {
   "cell_type": "code",
   "execution_count": 11,
   "metadata": {},
   "outputs": [
    {
     "data": {
      "text/html": [
       "<div>\n",
       "<style scoped>\n",
       "    .dataframe tbody tr th:only-of-type {\n",
       "        vertical-align: middle;\n",
       "    }\n",
       "\n",
       "    .dataframe tbody tr th {\n",
       "        vertical-align: top;\n",
       "    }\n",
       "\n",
       "    .dataframe thead th {\n",
       "        text-align: right;\n",
       "    }\n",
       "</style>\n",
       "<table border=\"1\" class=\"dataframe\">\n",
       "  <thead>\n",
       "    <tr style=\"text-align: right;\">\n",
       "      <th></th>\n",
       "      <th>0</th>\n",
       "      <th>1</th>\n",
       "      <th>2</th>\n",
       "    </tr>\n",
       "  </thead>\n",
       "  <tbody>\n",
       "    <tr>\n",
       "      <th>0</th>\n",
       "      <td>34.623660</td>\n",
       "      <td>78.024693</td>\n",
       "      <td>0</td>\n",
       "    </tr>\n",
       "    <tr>\n",
       "      <th>1</th>\n",
       "      <td>30.286711</td>\n",
       "      <td>43.894998</td>\n",
       "      <td>0</td>\n",
       "    </tr>\n",
       "    <tr>\n",
       "      <th>2</th>\n",
       "      <td>35.847409</td>\n",
       "      <td>72.902198</td>\n",
       "      <td>0</td>\n",
       "    </tr>\n",
       "    <tr>\n",
       "      <th>3</th>\n",
       "      <td>60.182599</td>\n",
       "      <td>86.308552</td>\n",
       "      <td>1</td>\n",
       "    </tr>\n",
       "    <tr>\n",
       "      <th>4</th>\n",
       "      <td>79.032736</td>\n",
       "      <td>75.344376</td>\n",
       "      <td>1</td>\n",
       "    </tr>\n",
       "    <tr>\n",
       "      <th>...</th>\n",
       "      <td>...</td>\n",
       "      <td>...</td>\n",
       "      <td>...</td>\n",
       "    </tr>\n",
       "    <tr>\n",
       "      <th>95</th>\n",
       "      <td>83.489163</td>\n",
       "      <td>48.380286</td>\n",
       "      <td>1</td>\n",
       "    </tr>\n",
       "    <tr>\n",
       "      <th>96</th>\n",
       "      <td>42.261701</td>\n",
       "      <td>87.103851</td>\n",
       "      <td>1</td>\n",
       "    </tr>\n",
       "    <tr>\n",
       "      <th>97</th>\n",
       "      <td>99.315009</td>\n",
       "      <td>68.775409</td>\n",
       "      <td>1</td>\n",
       "    </tr>\n",
       "    <tr>\n",
       "      <th>98</th>\n",
       "      <td>55.340018</td>\n",
       "      <td>64.931938</td>\n",
       "      <td>1</td>\n",
       "    </tr>\n",
       "    <tr>\n",
       "      <th>99</th>\n",
       "      <td>74.775893</td>\n",
       "      <td>89.529813</td>\n",
       "      <td>1</td>\n",
       "    </tr>\n",
       "  </tbody>\n",
       "</table>\n",
       "<p>100 rows × 3 columns</p>\n",
       "</div>"
      ],
      "text/plain": [
       "            0          1  2\n",
       "0   34.623660  78.024693  0\n",
       "1   30.286711  43.894998  0\n",
       "2   35.847409  72.902198  0\n",
       "3   60.182599  86.308552  1\n",
       "4   79.032736  75.344376  1\n",
       "..        ...        ... ..\n",
       "95  83.489163  48.380286  1\n",
       "96  42.261701  87.103851  1\n",
       "97  99.315009  68.775409  1\n",
       "98  55.340018  64.931938  1\n",
       "99  74.775893  89.529813  1\n",
       "\n",
       "[100 rows x 3 columns]"
      ]
     },
     "execution_count": 11,
     "metadata": {},
     "output_type": "execute_result"
    }
   ],
   "source": [
    "# Importar datos\n",
    "import pandas as pd\n",
    "data = pd.read_csv('datos.csv', header=None)\n",
    "data"
   ]
  },
  {
   "cell_type": "code",
   "execution_count": null,
   "metadata": {},
   "outputs": [],
   "source": []
  },
  {
   "cell_type": "code",
   "execution_count": 17,
   "metadata": {},
   "outputs": [],
   "source": [
    "# separar los datos de entrada y salida\n",
    "X = data.loc[:,[0,1]].values\n",
    "y = data.loc[:,2].values"
   ]
  },
  {
   "cell_type": "code",
   "execution_count": 24,
   "metadata": {},
   "outputs": [
    {
     "data": {
      "image/png": "[encoded data removed]",
      "text/plain": [
       "<Figure size 576x432 with 1 Axes>"
      ]
     },
     "metadata": {
      "needs_background": "light"
     },
     "output_type": "display_data"
    }
   ],
   "source": [
    "# Graficar puntos\n",
    "# Tamaño de la gráfica\n",
    "plt.figure(figsize=(8,6))\n",
    "\n",
    "# Graficar estudiantes admitidos y no admitidos\n",
    "plt.plot(X[y==1,0], X[y==1,1], 'og', ms=5, label='Estudiantes Admitidos')\n",
    "plt.plot(X[y==0,0], X[y==0,1], 'xr', ms=5, label='Estudiantes No Admitidos')\n",
    "\n",
    "\n",
    "# Etiquetas de los ejes\n",
    "plt.xlabel('Evaluación 1', fontsize=15)\n",
    "plt.ylabel('Evaluación 2', fontsize=15)\n",
    "\n",
    "plt.legend(bbox_to_anchor=(1.5,1), fontsize=15)\n",
    "plt.grid()\n",
    "plt.show()"
   ]
  },
  {
   "cell_type": "markdown",
   "metadata": {},
   "source": [
    "Construir un clasificador binario por regresión lineal logística."
   ]
  },
  {
   "cell_type": "code",
   "execution_count": 26,
   "metadata": {},
   "outputs": [],
   "source": [
    "# Libreria de optimización\n",
    "import scipy.optimize as opt"
   ]
  },
  {
   "cell_type": "markdown",
   "metadata": {},
   "source": [
    "$$\\min_{\\boldsymbol{\\beta}} \\frac{1}{m}\\sum_{i=1}^m -\\left(y^i\\log(\\hat{y}^i)+(1-y^i)\\log(1-\\hat{y}^i)\\right)$$"
   ]
  },
  {
   "cell_type": "code",
   "execution_count": 28,
   "metadata": {},
   "outputs": [],
   "source": [
    "# Función objetivo\n",
    "def obj(beta, X, y):\n",
    "    m = X.shape[0]\n",
    "    yhat = regre_log(beta, X)\n",
    "    return -np.sum((y*np.log10(yhat) + (1-y)*np.log10(1-yhat)))/m\n",
    "\n",
    "beta_inicial = np.zeros(3)"
   ]
  },
  {
   "cell_type": "code",
   "execution_count": 29,
   "metadata": {},
   "outputs": [],
   "source": [
    "# resultado\n",
    "sol = opt.minimize(obj,beta_inicial, args=(X,y))"
   ]
  },
  {
   "cell_type": "markdown",
   "metadata": {},
   "source": [
    "Los parámetros del clasificador son entonces:"
   ]
  },
  {
   "cell_type": "code",
   "execution_count": 31,
   "metadata": {},
   "outputs": [
    {
     "data": {
      "text/plain": [
       "array([-25.20982977,   0.20672174,   0.20184034])"
      ]
     },
     "execution_count": 31,
     "metadata": {},
     "output_type": "execute_result"
    }
   ],
   "source": [
    "sol\n",
    "beta = sol.x\n",
    "beta"
   ]
  },
  {
   "cell_type": "code",
   "execution_count": null,
   "metadata": {},
   "outputs": [],
   "source": [
    "# Definir línea separadora\n",
    "\n",
    "\n",
    "\n",
    "# Graficar puntos\n",
    "# Tamaño d ela gráfica\n",
    "\n",
    "\n",
    "# Graficar estudiantes admitidos y no admitidos\n",
    "\n",
    "\n",
    "# Graficar lìnea separadora\n",
    "\n",
    "\n",
    "# Etiquetas de los ejes\n"
   ]
  },
  {
   "cell_type": "markdown",
   "metadata": {},
   "source": [
    "## TAREA\n",
    "\n",
    "El dataset `bdiag.csv` incluye detalles de imágenes de algunoas pacientes que se han hecho una bipsia para el cáncer de seno. La variable `diagnosis` clasifica la biopsia como 1 = Benigno, 0 = Maligno.\n",
    "\n",
    "Diseñe un clasificador binario por regresión logística.\n",
    "\n",
    "Mostrar el gráfico de la división del clasificador con los puntos de entrenamiento.\n",
    "\n",
    "### ENTREGABLE:\n",
    "Crear un nuevo cuaderno de jupyter y nombrarlo T5PrimerNombrePrimerApellido.ipynb.\n",
    "\n",
    "### DEFINIR FECHA DE ENTREGA"
   ]
  },
  {
   "cell_type": "code",
   "execution_count": 32,
   "metadata": {},
   "outputs": [
    {
     "data": {
      "text/html": [
       "<div>\n",
       "<style scoped>\n",
       "    .dataframe tbody tr th:only-of-type {\n",
       "        vertical-align: middle;\n",
       "    }\n",
       "\n",
       "    .dataframe tbody tr th {\n",
       "        vertical-align: top;\n",
       "    }\n",
       "\n",
       "    .dataframe thead th {\n",
       "        text-align: right;\n",
       "    }\n",
       "</style>\n",
       "<table border=\"1\" class=\"dataframe\">\n",
       "  <thead>\n",
       "    <tr style=\"text-align: right;\">\n",
       "      <th></th>\n",
       "      <th>radius_mean</th>\n",
       "      <th>texture_mean</th>\n",
       "      <th>diagnosis</th>\n",
       "    </tr>\n",
       "  </thead>\n",
       "  <tbody>\n",
       "    <tr>\n",
       "      <th>0</th>\n",
       "      <td>17.99</td>\n",
       "      <td>10.38</td>\n",
       "      <td>0</td>\n",
       "    </tr>\n",
       "    <tr>\n",
       "      <th>1</th>\n",
       "      <td>20.57</td>\n",
       "      <td>17.77</td>\n",
       "      <td>0</td>\n",
       "    </tr>\n",
       "    <tr>\n",
       "      <th>2</th>\n",
       "      <td>19.69</td>\n",
       "      <td>21.25</td>\n",
       "      <td>0</td>\n",
       "    </tr>\n",
       "    <tr>\n",
       "      <th>3</th>\n",
       "      <td>11.42</td>\n",
       "      <td>20.38</td>\n",
       "      <td>0</td>\n",
       "    </tr>\n",
       "    <tr>\n",
       "      <th>4</th>\n",
       "      <td>20.29</td>\n",
       "      <td>14.34</td>\n",
       "      <td>0</td>\n",
       "    </tr>\n",
       "    <tr>\n",
       "      <th>...</th>\n",
       "      <td>...</td>\n",
       "      <td>...</td>\n",
       "      <td>...</td>\n",
       "    </tr>\n",
       "    <tr>\n",
       "      <th>194</th>\n",
       "      <td>14.86</td>\n",
       "      <td>23.21</td>\n",
       "      <td>0</td>\n",
       "    </tr>\n",
       "    <tr>\n",
       "      <th>195</th>\n",
       "      <td>12.91</td>\n",
       "      <td>16.33</td>\n",
       "      <td>1</td>\n",
       "    </tr>\n",
       "    <tr>\n",
       "      <th>196</th>\n",
       "      <td>13.77</td>\n",
       "      <td>22.29</td>\n",
       "      <td>0</td>\n",
       "    </tr>\n",
       "    <tr>\n",
       "      <th>197</th>\n",
       "      <td>18.08</td>\n",
       "      <td>21.84</td>\n",
       "      <td>0</td>\n",
       "    </tr>\n",
       "    <tr>\n",
       "      <th>198</th>\n",
       "      <td>19.18</td>\n",
       "      <td>22.49</td>\n",
       "      <td>0</td>\n",
       "    </tr>\n",
       "  </tbody>\n",
       "</table>\n",
       "<p>199 rows × 3 columns</p>\n",
       "</div>"
      ],
      "text/plain": [
       "     radius_mean  texture_mean  diagnosis\n",
       "0          17.99         10.38          0\n",
       "1          20.57         17.77          0\n",
       "2          19.69         21.25          0\n",
       "3          11.42         20.38          0\n",
       "4          20.29         14.34          0\n",
       "..           ...           ...        ...\n",
       "194        14.86         23.21          0\n",
       "195        12.91         16.33          1\n",
       "196        13.77         22.29          0\n",
       "197        18.08         21.84          0\n",
       "198        19.18         22.49          0\n",
       "\n",
       "[199 rows x 3 columns]"
      ]
     },
     "execution_count": 32,
     "metadata": {},
     "output_type": "execute_result"
    }
   ],
   "source": [
    "import pandas as pd\n",
    "import matplotlib.pyplot as plt\n",
    "data = pd.read_csv('bdiag.csv')\n",
    "data"
   ]
  },
  {
   "cell_type": "code",
   "execution_count": 33,
   "metadata": {},
   "outputs": [
    {
     "data": {
      "image/png": "[encoded data removed]",
      "text/plain": [
       "<Figure size 576x432 with 1 Axes>"
      ]
     },
     "metadata": {
      "needs_background": "light"
     },
     "output_type": "display_data"
    }
   ],
   "source": [
    "X = data.iloc[:,:2].values\n",
    "Y = data.iloc[:,2].values\n",
    "\n",
    "\n",
    "plt.figure(figsize = (8,6))\n",
    "plt.scatter(X[:,0], X[:,1], c=Y)\n",
    "plt.show()"
   ]
  },
  {
   "cell_type": "code",
   "execution_count": null,
   "metadata": {},
   "outputs": [],
   "source": []
  }
 ],
 "metadata": {
  "kernelspec": {
   "display_name": "Python 3",
   "language": "python",
   "name": "python3"
  },
  "language_info": {
   "codemirror_mode": {
    "name": "ipython",
    "version": 3
   },
   "file_extension": ".py",
   "mimetype": "text/x-python",
   "name": "python",
   "nbconvert_exporter": "python",
   "pygments_lexer": "ipython3",
   "version": "3.8.5"
  }
 },
 "nbformat": 4,
 "nbformat_minor": 2
}
