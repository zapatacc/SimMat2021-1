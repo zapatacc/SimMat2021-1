{
 "cells": [
  {
   "cell_type": "markdown",
   "metadata": {},
   "source": [
    "# Modelo del rendimiento de una cuenta de ahorro\n",
    "\n",
    "<img style=\"center\" src=\"https://static.pexels.com/photos/9660/business-money-pink-coins.jpg\" width=\"500px\" height=\"200px\" alt=\"atom\"/>\n",
    "\n",
    "> **¿Tiene el dinero el mismo valor a lo largo del tiempo?** La respuesta es *no*. Todos lo hemos vivido. \n",
    "\n",
    "> Dos situaciones básicas:\n",
    "1. <font color=blue>Inflación</font>: ¿Cuánto dinero necesitabas para comprar unas papas y un refresco hace 10 años? ¿Cuánto necesitas hoy?\n",
    "2. <font color=blue>Interés</font>: no es lo mismo tener $\\$10000$ MXN disponibles hoy a recibir $\\$10000$ MXN en un año, pues los primeros pueden ser invertidos en un negocio o una cuenta bancaria para generar **interés**. Por lo tanto los $\\$10000$ MXN disponibles hoy valen más que los $\\$10000$ MXN que se recibirán en un año.\n",
    "\n",
    "Referencia:\n",
    "- Vidaurri Aguirre, Héctor Manuel. *Ingeniería económica básica*, ISBN: 978-607-519-017-4. (Disponible en biblioteca)"
   ]
  },
  {
   "cell_type": "markdown",
   "metadata": {},
   "source": [
    "Referencias:\n",
    "- http://www.sympy.org\n",
    "- http://matplotlib.org\n",
    "- http://www.numpy.org\n",
    "- http://ipywidgets.readthedocs.io/en/latest/index.html"
   ]
  },
  {
   "cell_type": "markdown",
   "metadata": {},
   "source": [
    "___\n",
    "## Interés\n",
    "Nos centraremos en como cambia el valor del dinero en el tiempo debido al **interés**. Existen dos tipos:"
   ]
  },
  {
   "cell_type": "markdown",
   "metadata": {},
   "source": [
    "### Capitalización por interés simple\n",
    "Este tipo de interés se calcula <font color=red>única y exclusivamente sobre la cantidad original que se invirtió</font>. Como consecuencia, el interés generado no forma parte del dinero que se invierte, es decir, los <font color=blue>intereses no ganan intereses</font>.\n",
    "\n",
    "Suponga que se tiene un capital inicial $C_0$ y se invierte a un plazo de $k$ periodos (pueden ser meses, trimestres, semestres, años...) a una tasa de **interés simple** por periodo $i$. Al final del primer periodo, el capital $C_1$ que se obtiene es:\n",
    "\n",
    "$$C_1=C_0+iC_0=C_0(1+i).$$\n",
    "\n",
    "De la misma manera, como el interés solo se calcula sobre el capital inicial, al final del segundo periodo, el capital $C_2$ que se obtiene es:\n",
    "\n",
    "$$C_2=C_1+iC_0=C_0+iC_0+iC_0=C_0(1+2i).$$\n",
    "\n",
    "Así, al final del $k-$ésimo periodo, el capital $C_k$ que se obtiene es:\n",
    "\n",
    "$$C_k=C_{k-1}+iC_0=C_0+kiC_0=C_0(1+ki).$$"
   ]
  },
  {
   "cell_type": "markdown",
   "metadata": {},
   "source": [
    "> **Ejemplo.** Suponga que se tiene un capital de $\\$10000$ MXN, el cual se pone en un fondo de inversión que paga una tasa de interés simple del $0.8\\%$ mensual. \n",
    "\n",
    "> Si se tiene una meta de ahorro de $\\$11000$ MXN sin inversiones adicionales, ¿cuántos meses se debería dejar invertido el dinero?"
   ]
  },
  {
   "cell_type": "code",
   "execution_count": 5,
   "metadata": {},
   "outputs": [
    {
     "name": "stdout",
     "output_type": "stream",
     "text": [
      "Es necesario invertir el dinero 13 períodos. Después de 13 períodos la cantidad de dinero que se tendrá es 11040.0\n"
     ]
    }
   ],
   "source": [
    "# Importar librería numpy\n",
    "import numpy as np\n",
    "\n",
    "# Datos del problema\n",
    "C0 = 10000\n",
    "i = 0.8/100\n",
    "Cf = 11000\n",
    "\n",
    "# Despejar k tal que C_k=meta\n",
    "k = ((Cf/C0)-1)/i\n",
    "k = np.ceil(k)\n",
    "k = int(k)\n",
    "\n",
    "Ck = C0*(1+k*i)\n",
    "Ck = np.round(Ck,2)\n",
    "\n",
    "# Imprimimos respuesta en pantalla\n",
    "print(f\"Es necesario invertir el dinero {k} períodos. Después de {k} períodos la cantidad de dinero que se tendrá es {Ck}\")"
   ]
  },
  {
   "cell_type": "markdown",
   "metadata": {},
   "source": [
    "> <font color=blue>**Actividad.**</font>\n",
    "1. ¿Qué pasa si el interés no es del $0.8\\%$ mensual sino del $1\\%$ mensual?\n",
    "2. ¿Qué pasa si la meta no son $\\$11000$ MXN si no $\\$12000$ MXN?"
   ]
  },
  {
   "cell_type": "code",
   "execution_count": 6,
   "metadata": {},
   "outputs": [
    {
     "name": "stdout",
     "output_type": "stream",
     "text": [
      "Es necesario invertir el dinero 11 períodos. Después de 11 períodos la cantidad de dinero que se tendrá es 11100.0\n"
     ]
    }
   ],
   "source": [
    "# Solución 1\n",
    "# Datos del problema\n",
    "C0 = 10000\n",
    "i = 1/100\n",
    "Cf = 11000\n",
    "\n",
    "# Despejar k tal que C_k=meta\n",
    "k = ((Cf/C0)-1)/i\n",
    "k = np.ceil(k)\n",
    "k = int(k)\n",
    "\n",
    "Ck = C0*(1+k*i)\n",
    "Ck = np.round(Ck,2)\n",
    "\n",
    "# Imprimimos respuesta en pantalla\n",
    "print(f\"Es necesario invertir el dinero {k} períodos. Después de {k} períodos la cantidad de dinero que se tendrá es {Ck}\")\n"
   ]
  },
  {
   "cell_type": "code",
   "execution_count": 8,
   "metadata": {},
   "outputs": [
    {
     "name": "stdout",
     "output_type": "stream",
     "text": [
      "Es necesario invertir el dinero 20 períodos. Después de 20 períodos la cantidad de dinero que se tendrá es 12000.0\n"
     ]
    }
   ],
   "source": [
    "# Solución 2\n",
    "# Datos del problema\n",
    "C0 = 10000\n",
    "i = 1/100\n",
    "Cf = 12000\n",
    "\n",
    "# Despejar k tal que C_k=meta\n",
    "k = ((Cf/C0)-1)/i\n",
    "k = np.ceil(k)\n",
    "k = int(k)\n",
    "\n",
    "Ck = C0*(1+k*i)\n",
    "Ck = np.round(Ck,2)\n",
    "\n",
    "# Imprimimos respuesta en pantalla\n",
    "print(f\"Es necesario invertir el dinero {k} períodos. Después de {k} períodos la cantidad de dinero que se tendrá es {Ck}\")"
   ]
  },
  {
   "cell_type": "markdown",
   "metadata": {},
   "source": [
    "> Una gráfica que nos permite ilustrar la situación anterior se puede realizar de la siguiente manera.\n",
    "\n",
    "Si no se ejecuta, correr desde anaconda prompt cada de una de las siguientes líneas:\n",
    "\n",
    "    conda install ipywidgets\n",
    "    jupyter nbextension enable --py widgetsnbextension --sys-prefix\n",
    "    "
   ]
  },
  {
   "cell_type": "code",
   "execution_count": 9,
   "metadata": {},
   "outputs": [],
   "source": [
    "# Librerías para gráficos\n",
    "import matplotlib.pyplot as plt\n",
    "# Librería para widgets de jupyter\n",
    "from ipywidgets import *\n",
    "\n",
    "def interes_simple(C_0, meta, i):\n",
    "    # Despejamos k\n",
    "    k = np.ceil((meta/C_0 - 1)/i)           # Notar el uso de la función ceil\n",
    "    k = k.astype(int)                       # Conversión a entero\n",
    "    C_k = C_0*(1+k*i)                       # Cálculo del capital al final del periodo k\n",
    "    C_k = round(C_k, 2)                     # Redondeo con dos cifras decimales\n",
    "    # Vector de periodos\n",
    "    kk = np.linspace(0,k,k+1)               \n",
    "    # Vector de capitales por periodo\n",
    "    CC = C_0*(1+kk*i)\n",
    "    # Gráfico\n",
    "    plt.figure(num=1); plt.clf()            # Figura 1, borrar lo que contenga\n",
    "    plt.plot(kk, CC,'*',ms=10)              # Se grafica la evolución de los capitales\n",
    "    plt.plot(kk,meta*np.ones(k+1),'--k')    # Se grafica la meta\n",
    "    plt.xlabel('$k$',fontsize=18)                         # Etiqueta eje x\n",
    "    plt.ylabel('$C_k$',fontsize=18)                       # Etiqueta eje y\n",
    "    plt.grid(True)                          # Malla en la gráfica\n",
    "    plt.show()                              # Mostrar la figura\n",
    "    print(\"El número de periodos que se debe dejar invertido el dinero para llegar a la meta de \", meta,\" es \", k,\n",
    "          \". Al final del periodo \", k,\", el capital es \", C_k, \".\", sep=\"\")"
   ]
  },
  {
   "cell_type": "code",
   "execution_count": 11,
   "metadata": {
    "scrolled": false
   },
   "outputs": [
    {
     "data": {
      "application/vnd.jupyter.widget-view+json": {
       "model_id": "606a86298e184128ab055d19db1768ab",
       "version_major": 2,
       "version_minor": 0
      },
      "text/plain": [
       "interactive(children=(IntSlider(value=35000, description='meta', max=40000, min=30000, step=500), Button(descr…"
      ]
     },
     "metadata": {},
     "output_type": "display_data"
    }
   ],
   "source": [
    "interact_manual(interes_simple, C_0=fixed(23000), meta=(30000,40000,500), i=fixed(0.008));"
   ]
  },
  {
   "cell_type": "markdown",
   "metadata": {},
   "source": [
    "Como se esperaba, el capital en el $k-$ésimo periodo $C_k=C_0(1+ki)$ crece linealmente con $k$."
   ]
  },
  {
   "cell_type": "markdown",
   "metadata": {},
   "source": [
    "### Capitalización por interés compuesto\n",
    "El capital que genera el interés simple permanece constante todo el tiempo de duración de la inversión. En cambio, el que produce el interés compuesto en un periodo se <font color=red>convierte en capital en el siguiente periodo</font>. Esto es, el interés generado al final de un periodo <font color=blue>se reinvierte para el siguiente periodo para también producir interés</font>.\n",
    "\n",
    "Suponga que se tiene un capital inicial $C_0$, y se va a ceder el uso de este capital por un periodo de tiempo determinado a una tasa de interés $i$. El capital que se obtiene al final del primer periodo $C_1$ se puede calcular por\n",
    "\n",
    "$$C_1=C_0(1+i).$$ \n",
    "\n",
    "Si la anterior suma se vuelve a ceder a la misma tasa de interés, al final del periodo dos el capital $C_2$ es \n",
    "\n",
    "$$C_2=C_1(1+i)=C_0(1+i)^2.$$\n",
    "\n",
    "Si se repite el anterior proceso $k$ veces, el capital al final del $k-$ésimo periodo $C_k$ es \n",
    "\n",
    "$$C_k=C_{k-1}(1+i)=C_0(1+i)^k.$$\n",
    "\n",
    "**Referencia**:\n",
    "- https://es.wikipedia.org/wiki/Inter%C3%A9s_compuesto."
   ]
  },
  {
   "cell_type": "markdown",
   "metadata": {},
   "source": [
    "> **Ejemplo.** Suponga que se tiene un capital de $\\$10000$ MXN, el cual se pone en un fondo de inversión que paga una tasa de interés compuesto del $0.8\\%$ mensual. \n",
    "\n",
    "> Si se tiene una meta de ahorro de $\\$11000$ MXN sin inversiones adicionales, ¿cuántos meses se debería dejar invertido el dinero?"
   ]
  },
  {
   "cell_type": "code",
   "execution_count": 17,
   "metadata": {},
   "outputs": [
    {
     "name": "stdout",
     "output_type": "stream",
     "text": [
      "Es necesario invertir el dinero 19 períodos. Después de 19 períodos la cantidad de dinero que se tendrá es 12081.09\n"
     ]
    }
   ],
   "source": [
    "# Datos del problema\n",
    "C0 = 10000\n",
    "Cf = 12000\n",
    "i = 1/100\n",
    "\n",
    "# Calcular la cantidad de períodos\n",
    "k = np.log(Cf/C0)/np.log(1+i)\n",
    "k = np.ceil(k)\n",
    "k = int(k)\n",
    "\n",
    "Ck = C0*(1+i)**k\n",
    "Ck = round(Ck,2)\n",
    "\n",
    "# Imprimir el resultado\n",
    "print(f\"Es necesario invertir el dinero {k} períodos. Después de {k} períodos la cantidad de dinero que se tendrá es {Ck}\")"
   ]
  },
  {
   "cell_type": "markdown",
   "metadata": {},
   "source": [
    "> Una gráfica que nos permite ilustrar la situación anterior se puede realizar de la siguiente manera."
   ]
  },
  {
   "cell_type": "code",
   "execution_count": 18,
   "metadata": {},
   "outputs": [],
   "source": [
    "def interes_compuesto(C_0, meta, i):\n",
    "    # Despejamos k\n",
    "    k = np.ceil(np.log(meta/C_0)/np.log(1+i))\n",
    "    k = k.astype(int)\n",
    "    C_k = C_0*(1+i)**k                      # Cálculo del capital al final del periodo k\n",
    "    C_k = round(C_k,2)\n",
    "    # Vector de periodos\n",
    "    kk = np.linspace(0,k,k+1)\n",
    "    # Vector de capitales por periodo\n",
    "    CC = C_0*(1+i)**kk\n",
    "    # Gráfico\n",
    "    plt.figure(num=1); plt.clf()            # Figura 1, borrar lo que contenga\n",
    "    plt.plot(kk, CC,'*',linewidth=3.0)      # Se grafica la evolución de los capitales\n",
    "    plt.plot(kk,meta*np.ones(k+1),'--k')    # Se grafica la meta\n",
    "    plt.xlabel('$k$',fontsize=18)                         # Etiqueta eje x\n",
    "    plt.ylabel('$C_k$',fontsize=18)                       # Etiqueta eje y\n",
    "    plt.grid(True)                          # Malla en la gráfica\n",
    "    plt.show()                              # Mostrar la figura\n",
    "    print(\"El número de periodos que se debe dejar invertido el dinero para llegar a la meta de \", meta,\" es \", k,\n",
    "          \". Al final del periodo \", k,\", el capital es \", C_k, \".\", sep=\"\")\n",
    " "
   ]
  },
  {
   "cell_type": "code",
   "execution_count": 21,
   "metadata": {},
   "outputs": [
    {
     "data": {
      "application/vnd.jupyter.widget-view+json": {
       "model_id": "cbfabd08fc0447ceacb32761686c89ae",
       "version_major": 2,
       "version_minor": 0
      },
      "text/plain": [
       "interactive(children=(IntSlider(value=25500, description='meta', max=40000, min=11000, step=100), Button(descr…"
      ]
     },
     "metadata": {},
     "output_type": "display_data"
    }
   ],
   "source": [
    "interact_manual(interes_compuesto, C_0=fixed(10000), meta=(11000,40000,100), i=fixed(0.008));"
   ]
  },
  {
   "cell_type": "markdown",
   "metadata": {},
   "source": [
    "El capital en el $k-$ésimo periodo $C_k=C_0(1+i)^k$ crece de manera exponencial con $k$."
   ]
  },
  {
   "cell_type": "markdown",
   "metadata": {},
   "source": [
    "> <font color=blue>**Actividad.**</font>\n",
    "> - Modificar el código anterior para dejar fija la meta de ahorro y variar la tasa de interés compuesta."
   ]
  },
  {
   "cell_type": "code",
   "execution_count": 26,
   "metadata": {},
   "outputs": [
    {
     "data": {
      "application/vnd.jupyter.widget-view+json": {
       "model_id": "4cbe6adeb3e44bdf83484e8a2f7a8843",
       "version_major": 2,
       "version_minor": 0
      },
      "text/plain": [
       "interactive(children=(FloatSlider(value=0.05, description='i', max=0.09, min=0.01, step=0.01), Button(descript…"
      ]
     },
     "metadata": {},
     "output_type": "display_data"
    }
   ],
   "source": [
    "interact_manual(interes_compuesto, C_0=fixed(10000), meta=fixed(40000), i=(0.01, 0.09,0.01));"
   ]
  },
  {
   "cell_type": "code",
   "execution_count": null,
   "metadata": {},
   "outputs": [],
   "source": []
  },
  {
   "cell_type": "markdown",
   "metadata": {},
   "source": [
    "___\n",
    "## Tabla de abonos\n",
    "Como aplicación importante del concepto de interés compuesto se encuentra la creación de un modelo de cuenta de ahorro.\n",
    "\n",
    "Referencia:\n",
    "- Vidaurri Aguirre, Héctor Manuel. *Ingeniería económica básica*, ISBN: 978-607-519-017-4. (Disponible en biblioteca)\n",
    "- http://pbpython.com/amortization-model.html\n",
    "- https://pbpython.com/amortization-model-revised.html"
   ]
  },
  {
   "cell_type": "code",
   "execution_count": 48,
   "metadata": {},
   "outputs": [],
   "source": [
    "# Librería de análisis de datos\n",
    "import pandas as pd\n",
    "\n",
    "# Librería para manipulación de fechas\n",
    "from datetime import date"
   ]
  },
  {
   "cell_type": "code",
   "execution_count": 62,
   "metadata": {},
   "outputs": [],
   "source": [
    "# Datos para la cuenta de ahorro\n",
    "inicial = 2000\n",
    "tasa_interes = 8/100\n",
    "meta = 50000\n",
    "\n",
    "years = 3\n",
    "abono_year = 12\n",
    "\n",
    "fecha_inicio = date(2021,5,10)"
   ]
  },
  {
   "cell_type": "code",
   "execution_count": 63,
   "metadata": {},
   "outputs": [],
   "source": [
    "# Tasa de interés mensual\n",
    "i = tasa_interes/12\n",
    "\n",
    "# Cantidad total de períodos\n",
    "T = years*abono_year"
   ]
  },
  {
   "cell_type": "code",
   "execution_count": 64,
   "metadata": {},
   "outputs": [
    {
     "data": {
      "text/plain": [
       "1170.8122088153607"
      ]
     },
     "execution_count": 64,
     "metadata": {},
     "output_type": "execute_result"
    }
   ],
   "source": [
    "# Cálculo de abonos mensuales iguales para llegar a la meta de ahorro en el tiempo deseado\n",
    "abono = i*(meta - inicial*(1+i)**T)/((1+i)**T-1)\n",
    "abono"
   ]
  },
  {
   "cell_type": "code",
   "execution_count": null,
   "metadata": {},
   "outputs": [],
   "source": []
  },
  {
   "cell_type": "code",
   "execution_count": 65,
   "metadata": {},
   "outputs": [],
   "source": [
    "# Rango de fechas en la tabla\n",
    "rng = pd.date_range(fecha_inicio, periods=T, freq='MS')\n",
    "rng.name = \"Fecha del abono\"\n",
    "\n",
    "# Columnas de abonos y extracto de cuenta en las fechas respectivas\n",
    "tabla = pd.DataFrame(index=rng, columns=['Abono', 'Balance'], dtype='float')\n",
    "\n",
    "# Para poner el indice con los periodos y no con las fechas\n",
    "tabla.reset_index(inplace=True)\n",
    "tabla.index+=1\n",
    "tabla.index.name = 'Períodos'"
   ]
  },
  {
   "cell_type": "code",
   "execution_count": 66,
   "metadata": {},
   "outputs": [],
   "source": [
    "# Los abonos son iguales\n",
    "tabla['Abono'] = abono\n",
    "\n",
    "# Calcular el balance para el primer período\n",
    "tabla.loc[1,'Balance'] = tabla.loc[1,'Abono'] + inicial*(1+i)**1\n",
    "\n",
    "# Calcular el balance para el resto de períodos\n",
    "for n in range(2,len(tabla)+1):\n",
    "\n",
    "    # Balance del período anterior\n",
    "    prev_balance = tabla.loc[n-1,'Balance']\n",
    "    \n",
    "    # Balance del período actual\n",
    "    tabla.loc[n,'Balance'] = prev_balance*(1+i)**1 + tabla.loc[n,'Abono'] "
   ]
  },
  {
   "cell_type": "code",
   "execution_count": 67,
   "metadata": {
    "scrolled": false
   },
   "outputs": [
    {
     "data": {
      "text/html": [
       "<div>\n",
       "<style scoped>\n",
       "    .dataframe tbody tr th:only-of-type {\n",
       "        vertical-align: middle;\n",
       "    }\n",
       "\n",
       "    .dataframe tbody tr th {\n",
       "        vertical-align: top;\n",
       "    }\n",
       "\n",
       "    .dataframe thead th {\n",
       "        text-align: right;\n",
       "    }\n",
       "</style>\n",
       "<table border=\"1\" class=\"dataframe\">\n",
       "  <thead>\n",
       "    <tr style=\"text-align: right;\">\n",
       "      <th></th>\n",
       "      <th>Fecha del abono</th>\n",
       "      <th>Abono</th>\n",
       "      <th>Balance</th>\n",
       "    </tr>\n",
       "    <tr>\n",
       "      <th>Períodos</th>\n",
       "      <th></th>\n",
       "      <th></th>\n",
       "      <th></th>\n",
       "    </tr>\n",
       "  </thead>\n",
       "  <tbody>\n",
       "    <tr>\n",
       "      <th>1</th>\n",
       "      <td>2021-06-01</td>\n",
       "      <td>1170.81</td>\n",
       "      <td>3184.15</td>\n",
       "    </tr>\n",
       "    <tr>\n",
       "      <th>2</th>\n",
       "      <td>2021-07-01</td>\n",
       "      <td>1170.81</td>\n",
       "      <td>4376.19</td>\n",
       "    </tr>\n",
       "    <tr>\n",
       "      <th>3</th>\n",
       "      <td>2021-08-01</td>\n",
       "      <td>1170.81</td>\n",
       "      <td>5576.17</td>\n",
       "    </tr>\n",
       "    <tr>\n",
       "      <th>4</th>\n",
       "      <td>2021-09-01</td>\n",
       "      <td>1170.81</td>\n",
       "      <td>6784.16</td>\n",
       "    </tr>\n",
       "    <tr>\n",
       "      <th>5</th>\n",
       "      <td>2021-10-01</td>\n",
       "      <td>1170.81</td>\n",
       "      <td>8000.20</td>\n",
       "    </tr>\n",
       "    <tr>\n",
       "      <th>6</th>\n",
       "      <td>2021-11-01</td>\n",
       "      <td>1170.81</td>\n",
       "      <td>9224.35</td>\n",
       "    </tr>\n",
       "    <tr>\n",
       "      <th>7</th>\n",
       "      <td>2021-12-01</td>\n",
       "      <td>1170.81</td>\n",
       "      <td>10456.65</td>\n",
       "    </tr>\n",
       "    <tr>\n",
       "      <th>8</th>\n",
       "      <td>2022-01-01</td>\n",
       "      <td>1170.81</td>\n",
       "      <td>11697.18</td>\n",
       "    </tr>\n",
       "    <tr>\n",
       "      <th>9</th>\n",
       "      <td>2022-02-01</td>\n",
       "      <td>1170.81</td>\n",
       "      <td>12945.97</td>\n",
       "    </tr>\n",
       "    <tr>\n",
       "      <th>10</th>\n",
       "      <td>2022-03-01</td>\n",
       "      <td>1170.81</td>\n",
       "      <td>14203.09</td>\n",
       "    </tr>\n",
       "    <tr>\n",
       "      <th>11</th>\n",
       "      <td>2022-04-01</td>\n",
       "      <td>1170.81</td>\n",
       "      <td>15468.59</td>\n",
       "    </tr>\n",
       "    <tr>\n",
       "      <th>12</th>\n",
       "      <td>2022-05-01</td>\n",
       "      <td>1170.81</td>\n",
       "      <td>16742.52</td>\n",
       "    </tr>\n",
       "    <tr>\n",
       "      <th>13</th>\n",
       "      <td>2022-06-01</td>\n",
       "      <td>1170.81</td>\n",
       "      <td>18024.95</td>\n",
       "    </tr>\n",
       "    <tr>\n",
       "      <th>14</th>\n",
       "      <td>2022-07-01</td>\n",
       "      <td>1170.81</td>\n",
       "      <td>19315.93</td>\n",
       "    </tr>\n",
       "    <tr>\n",
       "      <th>15</th>\n",
       "      <td>2022-08-01</td>\n",
       "      <td>1170.81</td>\n",
       "      <td>20615.52</td>\n",
       "    </tr>\n",
       "    <tr>\n",
       "      <th>16</th>\n",
       "      <td>2022-09-01</td>\n",
       "      <td>1170.81</td>\n",
       "      <td>21923.77</td>\n",
       "    </tr>\n",
       "    <tr>\n",
       "      <th>17</th>\n",
       "      <td>2022-10-01</td>\n",
       "      <td>1170.81</td>\n",
       "      <td>23240.74</td>\n",
       "    </tr>\n",
       "    <tr>\n",
       "      <th>18</th>\n",
       "      <td>2022-11-01</td>\n",
       "      <td>1170.81</td>\n",
       "      <td>24566.49</td>\n",
       "    </tr>\n",
       "    <tr>\n",
       "      <th>19</th>\n",
       "      <td>2022-12-01</td>\n",
       "      <td>1170.81</td>\n",
       "      <td>25901.08</td>\n",
       "    </tr>\n",
       "    <tr>\n",
       "      <th>20</th>\n",
       "      <td>2023-01-01</td>\n",
       "      <td>1170.81</td>\n",
       "      <td>27244.56</td>\n",
       "    </tr>\n",
       "    <tr>\n",
       "      <th>21</th>\n",
       "      <td>2023-02-01</td>\n",
       "      <td>1170.81</td>\n",
       "      <td>28597.00</td>\n",
       "    </tr>\n",
       "    <tr>\n",
       "      <th>22</th>\n",
       "      <td>2023-03-01</td>\n",
       "      <td>1170.81</td>\n",
       "      <td>29958.46</td>\n",
       "    </tr>\n",
       "    <tr>\n",
       "      <th>23</th>\n",
       "      <td>2023-04-01</td>\n",
       "      <td>1170.81</td>\n",
       "      <td>31329.00</td>\n",
       "    </tr>\n",
       "    <tr>\n",
       "      <th>24</th>\n",
       "      <td>2023-05-01</td>\n",
       "      <td>1170.81</td>\n",
       "      <td>32708.67</td>\n",
       "    </tr>\n",
       "    <tr>\n",
       "      <th>25</th>\n",
       "      <td>2023-06-01</td>\n",
       "      <td>1170.81</td>\n",
       "      <td>34097.54</td>\n",
       "    </tr>\n",
       "    <tr>\n",
       "      <th>26</th>\n",
       "      <td>2023-07-01</td>\n",
       "      <td>1170.81</td>\n",
       "      <td>35495.67</td>\n",
       "    </tr>\n",
       "    <tr>\n",
       "      <th>27</th>\n",
       "      <td>2023-08-01</td>\n",
       "      <td>1170.81</td>\n",
       "      <td>36903.12</td>\n",
       "    </tr>\n",
       "    <tr>\n",
       "      <th>28</th>\n",
       "      <td>2023-09-01</td>\n",
       "      <td>1170.81</td>\n",
       "      <td>38319.95</td>\n",
       "    </tr>\n",
       "    <tr>\n",
       "      <th>29</th>\n",
       "      <td>2023-10-01</td>\n",
       "      <td>1170.81</td>\n",
       "      <td>39746.23</td>\n",
       "    </tr>\n",
       "    <tr>\n",
       "      <th>30</th>\n",
       "      <td>2023-11-01</td>\n",
       "      <td>1170.81</td>\n",
       "      <td>41182.02</td>\n",
       "    </tr>\n",
       "    <tr>\n",
       "      <th>31</th>\n",
       "      <td>2023-12-01</td>\n",
       "      <td>1170.81</td>\n",
       "      <td>42627.38</td>\n",
       "    </tr>\n",
       "    <tr>\n",
       "      <th>32</th>\n",
       "      <td>2024-01-01</td>\n",
       "      <td>1170.81</td>\n",
       "      <td>44082.37</td>\n",
       "    </tr>\n",
       "    <tr>\n",
       "      <th>33</th>\n",
       "      <td>2024-02-01</td>\n",
       "      <td>1170.81</td>\n",
       "      <td>45547.07</td>\n",
       "    </tr>\n",
       "    <tr>\n",
       "      <th>34</th>\n",
       "      <td>2024-03-01</td>\n",
       "      <td>1170.81</td>\n",
       "      <td>47021.53</td>\n",
       "    </tr>\n",
       "    <tr>\n",
       "      <th>35</th>\n",
       "      <td>2024-04-01</td>\n",
       "      <td>1170.81</td>\n",
       "      <td>48505.82</td>\n",
       "    </tr>\n",
       "    <tr>\n",
       "      <th>36</th>\n",
       "      <td>2024-05-01</td>\n",
       "      <td>1170.81</td>\n",
       "      <td>50000.00</td>\n",
       "    </tr>\n",
       "  </tbody>\n",
       "</table>\n",
       "</div>"
      ],
      "text/plain": [
       "         Fecha del abono    Abono   Balance\n",
       "Períodos                                   \n",
       "1             2021-06-01  1170.81   3184.15\n",
       "2             2021-07-01  1170.81   4376.19\n",
       "3             2021-08-01  1170.81   5576.17\n",
       "4             2021-09-01  1170.81   6784.16\n",
       "5             2021-10-01  1170.81   8000.20\n",
       "6             2021-11-01  1170.81   9224.35\n",
       "7             2021-12-01  1170.81  10456.65\n",
       "8             2022-01-01  1170.81  11697.18\n",
       "9             2022-02-01  1170.81  12945.97\n",
       "10            2022-03-01  1170.81  14203.09\n",
       "11            2022-04-01  1170.81  15468.59\n",
       "12            2022-05-01  1170.81  16742.52\n",
       "13            2022-06-01  1170.81  18024.95\n",
       "14            2022-07-01  1170.81  19315.93\n",
       "15            2022-08-01  1170.81  20615.52\n",
       "16            2022-09-01  1170.81  21923.77\n",
       "17            2022-10-01  1170.81  23240.74\n",
       "18            2022-11-01  1170.81  24566.49\n",
       "19            2022-12-01  1170.81  25901.08\n",
       "20            2023-01-01  1170.81  27244.56\n",
       "21            2023-02-01  1170.81  28597.00\n",
       "22            2023-03-01  1170.81  29958.46\n",
       "23            2023-04-01  1170.81  31329.00\n",
       "24            2023-05-01  1170.81  32708.67\n",
       "25            2023-06-01  1170.81  34097.54\n",
       "26            2023-07-01  1170.81  35495.67\n",
       "27            2023-08-01  1170.81  36903.12\n",
       "28            2023-09-01  1170.81  38319.95\n",
       "29            2023-10-01  1170.81  39746.23\n",
       "30            2023-11-01  1170.81  41182.02\n",
       "31            2023-12-01  1170.81  42627.38\n",
       "32            2024-01-01  1170.81  44082.37\n",
       "33            2024-02-01  1170.81  45547.07\n",
       "34            2024-03-01  1170.81  47021.53\n",
       "35            2024-04-01  1170.81  48505.82\n",
       "36            2024-05-01  1170.81  50000.00"
      ]
     },
     "execution_count": 67,
     "metadata": {},
     "output_type": "execute_result"
    }
   ],
   "source": [
    "# Redondear con dos cifras decimales y mostrar DataFrame\n",
    "tabla = tabla.round(2)\n",
    "tabla"
   ]
  },
  {
   "cell_type": "code",
   "execution_count": 69,
   "metadata": {},
   "outputs": [
    {
     "data": {
      "text/plain": [
       "<AxesSubplot:xlabel='Períodos'>"
      ]
     },
     "execution_count": 69,
     "metadata": {},
     "output_type": "execute_result"
    },
    {
     "data": {
      "image/png": "[encoded data removed]",
      "text/plain": [
       "<Figure size 432x288 with 1 Axes>"
      ]
     },
     "metadata": {
      "needs_background": "light"
     },
     "output_type": "display_data"
    }
   ],
   "source": [
    "tabla['Balance'].plot()"
   ]
  },
  {
   "cell_type": "code",
   "execution_count": 68,
   "metadata": {},
   "outputs": [
    {
     "data": {
      "text/plain": [
       "42149.15999999999"
      ]
     },
     "execution_count": 68,
     "metadata": {},
     "output_type": "execute_result"
    }
   ],
   "source": [
    "tabla['Abono'].sum()"
   ]
  },
  {
   "cell_type": "markdown",
   "metadata": {},
   "source": [
    "## Tarea.\n",
    "> - Consultar tasas de interés reales en algún banco y proyectar un ahorro mensual para que al terminar su carrera tengan $\\$120000$ MXN en su cuenta.\n",
    "> - Hacer esto en un nuevo archivo, llamarlo T8NombreApellido.ipynb y subirlo a moodle.\n",
    "> - Plazo: Miércoles 12 de Mayo 8:55 am"
   ]
  },
  {
   "cell_type": "markdown",
   "metadata": {
    "collapsed": true
   },
   "source": [
    "<script>\n",
    "  $(document).ready(function(){\n",
    "    $('div.prompt').hide();\n",
    "    $('div.back-to-top').hide();\n",
    "    $('nav#menubar').hide();\n",
    "    $('.breadcrumb').hide();\n",
    "    $('.hidden-print').hide();\n",
    "  });\n",
    "</script>\n",
    "\n",
    "<footer id=\"attribution\" style=\"float:right; color:#808080; background:#fff;\">\n",
    "Created with Jupyter by Cristian Camilo Zapata Zuluaga.\n",
    "</footer>"
   ]
  }
 ],
 "metadata": {
  "kernelspec": {
   "display_name": "Python 3",
   "language": "python",
   "name": "python3"
  },
  "language_info": {
   "codemirror_mode": {
    "name": "ipython",
    "version": 3
   },
   "file_extension": ".py",
   "mimetype": "text/x-python",
   "name": "python",
   "nbconvert_exporter": "python",
   "pygments_lexer": "ipython3",
   "version": "3.8.9"
  }
 },
 "nbformat": 4,
 "nbformat_minor": 2
}
